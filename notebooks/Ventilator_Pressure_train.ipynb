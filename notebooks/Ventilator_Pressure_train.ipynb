{
 "cells": [
  {
   "cell_type": "code",
   "execution_count": 1,
   "metadata": {
    "colab": {
     "base_uri": "https://localhost:8080/"
    },
    "id": "L9kAJB3BCtBt",
    "outputId": "3508a337-278d-4a50-eb33-4f3627a5cbed"
   },
   "outputs": [
    {
     "name": "stdout",
     "output_type": "stream",
     "text": [
      "Drive already mounted at /content/drive; to attempt to forcibly remount, call drive.mount(\"/content/drive\", force_remount=True).\n"
     ]
    }
   ],
   "source": [
    "from google.colab import drive\n",
    "drive.mount('/content/drive')"
   ]
  },
  {
   "cell_type": "code",
   "execution_count": 12,
   "metadata": {
    "id": "Q4ZM-Gu_DSX9"
   },
   "outputs": [],
   "source": [
    "import numpy as np\n",
    "import pandas as pd\n",
    "import matplotlib.pyplot as plt\n",
    "import seaborn as sns\n",
    "resource_path = \"/content/drive/MyDrive/Ventilator-Pressure-Prediction/\"\n",
    "local_resource_path = \"../models/\"\n",
    "data_path = \"../input/\"\n",
    "running_enviroment = \"local\"\n",
    "\n",
    "%matplotlib inline"
   ]
  },
  {
   "cell_type": "code",
   "execution_count": 15,
   "metadata": {
    "colab": {
     "base_uri": "https://localhost:8080/"
    },
    "id": "SpkoQOzOLWe5",
    "outputId": "0b19cb26-3e30-49a3-cef3-95533e1d7510"
   },
   "outputs": [
    {
     "name": "stderr",
     "output_type": "stream",
     "text": [
      "'cat' is not recognized as an internal or external command,\n",
      "operable program or batch file.\n"
     ]
    }
   ],
   "source": [
    "!cat /proc/cpuinfo"
   ]
  },
  {
   "cell_type": "code",
   "execution_count": 13,
   "metadata": {
    "id": "D66QlQFhD6zJ"
   },
   "outputs": [],
   "source": [
    "if running_enviroment == \"colab\":\n",
    "    data_df = pd.read_csv(resource_path + 'train.csv')\n",
    "else:\n",
    "    data_df = pd.read_csv(data_path + 'train.csv')"
   ]
  },
  {
   "cell_type": "code",
   "execution_count": 14,
   "metadata": {
    "colab": {
     "base_uri": "https://localhost:8080/"
    },
    "id": "5NoyHYFosSyp",
    "outputId": "15e9fe90-95d2-44ef-f6b6-72f0950ff19c"
   },
   "outputs": [
    {
     "data": {
      "text/plain": [
       "(6036000, 8)"
      ]
     },
     "execution_count": 14,
     "metadata": {},
     "output_type": "execute_result"
    }
   ],
   "source": [
    "data_df.shape"
   ]
  },
  {
   "cell_type": "code",
   "execution_count": 15,
   "metadata": {
    "colab": {
     "base_uri": "https://localhost:8080/"
    },
    "id": "00OUx7SnacqZ",
    "outputId": "06397ebf-02e0-4f75-8e5c-1aac45d0a835"
   },
   "outputs": [
    {
     "name": "stdout",
     "output_type": "stream",
     "text": [
      "<class 'pandas.core.frame.DataFrame'>\n",
      "RangeIndex: 6036000 entries, 0 to 6035999\n",
      "Data columns (total 8 columns):\n",
      " #   Column     Dtype  \n",
      "---  ------     -----  \n",
      " 0   id         int64  \n",
      " 1   breath_id  int64  \n",
      " 2   R          int64  \n",
      " 3   C          int64  \n",
      " 4   time_step  float64\n",
      " 5   u_in       float64\n",
      " 6   u_out      int64  \n",
      " 7   pressure   float64\n",
      "dtypes: float64(3), int64(5)\n",
      "memory usage: 368.4 MB\n"
     ]
    }
   ],
   "source": [
    "# To convert string data into numeric which was numeric in nature \n",
    "data_df = data_df.apply(pd.to_numeric, errors='ignore')\n",
    "data_df.info()"
   ]
  },
  {
   "cell_type": "code",
   "execution_count": 16,
   "metadata": {
    "colab": {
     "base_uri": "https://localhost:8080/",
     "height": 204
    },
    "id": "ABuRifL55UGS",
    "outputId": "966e8406-9e05-4790-f802-17038a12e4d7"
   },
   "outputs": [
    {
     "data": {
      "text/html": [
       "<div>\n",
       "<style scoped>\n",
       "    .dataframe tbody tr th:only-of-type {\n",
       "        vertical-align: middle;\n",
       "    }\n",
       "\n",
       "    .dataframe tbody tr th {\n",
       "        vertical-align: top;\n",
       "    }\n",
       "\n",
       "    .dataframe thead th {\n",
       "        text-align: right;\n",
       "    }\n",
       "</style>\n",
       "<table border=\"1\" class=\"dataframe\">\n",
       "  <thead>\n",
       "    <tr style=\"text-align: right;\">\n",
       "      <th></th>\n",
       "      <th>id</th>\n",
       "      <th>breath_id</th>\n",
       "      <th>R</th>\n",
       "      <th>C</th>\n",
       "      <th>time_step</th>\n",
       "      <th>u_in</th>\n",
       "      <th>u_out</th>\n",
       "      <th>pressure</th>\n",
       "    </tr>\n",
       "  </thead>\n",
       "  <tbody>\n",
       "    <tr>\n",
       "      <th>0</th>\n",
       "      <td>1</td>\n",
       "      <td>1</td>\n",
       "      <td>20</td>\n",
       "      <td>50</td>\n",
       "      <td>0.000000</td>\n",
       "      <td>0.083334</td>\n",
       "      <td>0</td>\n",
       "      <td>5.837492</td>\n",
       "    </tr>\n",
       "    <tr>\n",
       "      <th>1</th>\n",
       "      <td>2</td>\n",
       "      <td>1</td>\n",
       "      <td>20</td>\n",
       "      <td>50</td>\n",
       "      <td>0.033652</td>\n",
       "      <td>18.383041</td>\n",
       "      <td>0</td>\n",
       "      <td>5.907794</td>\n",
       "    </tr>\n",
       "    <tr>\n",
       "      <th>2</th>\n",
       "      <td>3</td>\n",
       "      <td>1</td>\n",
       "      <td>20</td>\n",
       "      <td>50</td>\n",
       "      <td>0.067514</td>\n",
       "      <td>22.509278</td>\n",
       "      <td>0</td>\n",
       "      <td>7.876254</td>\n",
       "    </tr>\n",
       "    <tr>\n",
       "      <th>3</th>\n",
       "      <td>4</td>\n",
       "      <td>1</td>\n",
       "      <td>20</td>\n",
       "      <td>50</td>\n",
       "      <td>0.101542</td>\n",
       "      <td>22.808822</td>\n",
       "      <td>0</td>\n",
       "      <td>11.742872</td>\n",
       "    </tr>\n",
       "    <tr>\n",
       "      <th>4</th>\n",
       "      <td>5</td>\n",
       "      <td>1</td>\n",
       "      <td>20</td>\n",
       "      <td>50</td>\n",
       "      <td>0.135756</td>\n",
       "      <td>25.355850</td>\n",
       "      <td>0</td>\n",
       "      <td>12.234987</td>\n",
       "    </tr>\n",
       "  </tbody>\n",
       "</table>\n",
       "</div>"
      ],
      "text/plain": [
       "   id  breath_id   R   C  time_step       u_in  u_out   pressure\n",
       "0   1          1  20  50   0.000000   0.083334      0   5.837492\n",
       "1   2          1  20  50   0.033652  18.383041      0   5.907794\n",
       "2   3          1  20  50   0.067514  22.509278      0   7.876254\n",
       "3   4          1  20  50   0.101542  22.808822      0  11.742872\n",
       "4   5          1  20  50   0.135756  25.355850      0  12.234987"
      ]
     },
     "execution_count": 16,
     "metadata": {},
     "output_type": "execute_result"
    }
   ],
   "source": [
    "data_df.head()"
   ]
  },
  {
   "cell_type": "code",
   "execution_count": 17,
   "metadata": {
    "colab": {
     "base_uri": "https://localhost:8080/",
     "height": 687
    },
    "id": "XDbDTDTFU0Tw",
    "outputId": "aae2677a-6604-40c5-d1b4-d81d8544d8cf"
   },
   "outputs": [
    {
     "name": "stderr",
     "output_type": "stream",
     "text": [
      "<ipython-input-17-0b46c19d2484>:3: UserWarning: To output multiple subplots, the figure containing the passed axes is being cleared\n",
      "  data_df.hist(ax = ax)\n"
     ]
    },
    {
     "data": {
      "text/plain": [
       "array([[<matplotlib.axes._subplots.AxesSubplot object at 0x0000020BCFF8F040>,\n",
       "        <matplotlib.axes._subplots.AxesSubplot object at 0x0000020BCFB40940>,\n",
       "        <matplotlib.axes._subplots.AxesSubplot object at 0x0000020BCFB6BD90>],\n",
       "       [<matplotlib.axes._subplots.AxesSubplot object at 0x0000020BCFBA3220>,\n",
       "        <matplotlib.axes._subplots.AxesSubplot object at 0x0000020BCFBCB700>,\n",
       "        <matplotlib.axes._subplots.AxesSubplot object at 0x0000020BCFBF7A90>],\n",
       "       [<matplotlib.axes._subplots.AxesSubplot object at 0x0000020BCFBF7B80>,\n",
       "        <matplotlib.axes._subplots.AxesSubplot object at 0x0000020BCFC30070>,\n",
       "        <matplotlib.axes._subplots.AxesSubplot object at 0x0000020BCFC887C0>]],\n",
       "      dtype=object)"
      ]
     },
     "execution_count": 17,
     "metadata": {},
     "output_type": "execute_result"
    },
    {
     "data": {
      "image/png": "[encoded data removed]",
      "text/plain": [
       "<Figure size 1584x576 with 9 Axes>"
      ]
     },
     "metadata": {
      "needs_background": "light"
     },
     "output_type": "display_data"
    }
   ],
   "source": [
    "figure = plt.figure(figsize=(22, 8))\n",
    "ax = figure.gca()\n",
    "data_df.hist(ax = ax)"
   ]
  },
  {
   "cell_type": "code",
   "execution_count": 18,
   "metadata": {
    "colab": {
     "base_uri": "https://localhost:8080/"
    },
    "id": "ozR0xiF37kLv",
    "outputId": "475e6fe0-7c3d-40bd-d270-6eff9f515239"
   },
   "outputs": [
    {
     "data": {
      "text/plain": [
       "set()"
      ]
     },
     "execution_count": 18,
     "metadata": {},
     "output_type": "execute_result"
    }
   ],
   "source": [
    "# Get the categorical columns for transforming\n",
    "set(data_df.columns) - set(data_df._get_numeric_data().columns)"
   ]
  },
  {
   "cell_type": "code",
   "execution_count": 19,
   "metadata": {
    "colab": {
     "base_uri": "https://localhost:8080/",
     "height": 1000
    },
    "id": "1XGo2VxsWaop",
    "outputId": "6a063eab-0513-4f6a-b8a8-5c4ab30598f0"
   },
   "outputs": [
    {
     "name": "stderr",
     "output_type": "stream",
     "text": [
      "C:\\Users\\Hemant\\AppData\\Roaming\\Python\\Python38\\site-packages\\seaborn\\_decorators.py:36: FutureWarning: Pass the following variable as a keyword arg: x. From version 0.12, the only valid positional argument will be `data`, and passing other arguments without an explicit keyword will result in an error or misinterpretation.\n",
      "  warnings.warn(\n",
      "C:\\Users\\Hemant\\AppData\\Roaming\\Python\\Python38\\site-packages\\seaborn\\_decorators.py:36: FutureWarning: Pass the following variable as a keyword arg: x. From version 0.12, the only valid positional argument will be `data`, and passing other arguments without an explicit keyword will result in an error or misinterpretation.\n",
      "  warnings.warn(\n",
      "C:\\Users\\Hemant\\AppData\\Roaming\\Python\\Python38\\site-packages\\seaborn\\_decorators.py:36: FutureWarning: Pass the following variable as a keyword arg: x. From version 0.12, the only valid positional argument will be `data`, and passing other arguments without an explicit keyword will result in an error or misinterpretation.\n",
      "  warnings.warn(\n",
      "C:\\Users\\Hemant\\AppData\\Roaming\\Python\\Python38\\site-packages\\seaborn\\_decorators.py:36: FutureWarning: Pass the following variable as a keyword arg: x. From version 0.12, the only valid positional argument will be `data`, and passing other arguments without an explicit keyword will result in an error or misinterpretation.\n",
      "  warnings.warn(\n",
      "C:\\Users\\Hemant\\AppData\\Roaming\\Python\\Python38\\site-packages\\seaborn\\_decorators.py:36: FutureWarning: Pass the following variable as a keyword arg: x. From version 0.12, the only valid positional argument will be `data`, and passing other arguments without an explicit keyword will result in an error or misinterpretation.\n",
      "  warnings.warn(\n",
      "C:\\Users\\Hemant\\AppData\\Roaming\\Python\\Python38\\site-packages\\seaborn\\_decorators.py:36: FutureWarning: Pass the following variable as a keyword arg: x. From version 0.12, the only valid positional argument will be `data`, and passing other arguments without an explicit keyword will result in an error or misinterpretation.\n",
      "  warnings.warn(\n",
      "C:\\Users\\Hemant\\AppData\\Roaming\\Python\\Python38\\site-packages\\seaborn\\_decorators.py:36: FutureWarning: Pass the following variable as a keyword arg: x. From version 0.12, the only valid positional argument will be `data`, and passing other arguments without an explicit keyword will result in an error or misinterpretation.\n",
      "  warnings.warn(\n"
     ]
    },
    {
     "data": {
      "image/png": "[encoded data removed]",
      "text/plain": [
       "<Figure size 576x288 with 1 Axes>"
      ]
     },
     "metadata": {
      "needs_background": "light"
     },
     "output_type": "display_data"
    },
    {
     "data": {
      "image/png": "[encoded data removed]",
      "text/plain": [
       "<Figure size 576x288 with 1 Axes>"
      ]
     },
     "metadata": {
      "needs_background": "light"
     },
     "output_type": "display_data"
    },
    {
     "data": {
      "image/png": "[encoded data removed]",
      "text/plain": [
       "<Figure size 576x288 with 1 Axes>"
      ]
     },
     "metadata": {
      "needs_background": "light"
     },
     "output_type": "display_data"
    },
    {
     "data": {
      "image/png": "[encoded data removed]",
      "text/plain": [
       "<Figure size 576x288 with 1 Axes>"
      ]
     },
     "metadata": {
      "needs_background": "light"
     },
     "output_type": "display_data"
    },
    {
     "data": {
      "image/png": "[encoded data removed]",
      "text/plain": [
       "<Figure size 576x288 with 1 Axes>"
      ]
     },
     "metadata": {
      "needs_background": "light"
     },
     "output_type": "display_data"
    },
    {
     "data": {
      "image/png": "[encoded data removed]",
      "text/plain": [
       "<Figure size 576x288 with 1 Axes>"
      ]
     },
     "metadata": {
      "needs_background": "light"
     },
     "output_type": "display_data"
    },
    {
     "data": {
      "image/png": "[encoded data removed]",
      "text/plain": [
       "<Figure size 576x288 with 1 Axes>"
      ]
     },
     "metadata": {
      "needs_background": "light"
     },
     "output_type": "display_data"
    }
   ],
   "source": [
    "train_columns = list(data_df.columns)\n",
    "train_columns.remove(\"pressure\")\n",
    "\n",
    "for column in train_columns:\n",
    "  plt.figure(figsize=(8,4))\n",
    "  sns.boxplot(column, data=data_df)"
   ]
  },
  {
   "cell_type": "code",
   "execution_count": 20,
   "metadata": {
    "colab": {
     "base_uri": "https://localhost:8080/",
     "height": 595
    },
    "id": "KgJ4BE7qmB0y",
    "outputId": "7852fcf2-5ef2-4317-f611-640815bcd562"
   },
   "outputs": [
    {
     "name": "stdout",
     "output_type": "stream",
     "text": [
      "id           0\n",
      "breath_id    0\n",
      "R            0\n",
      "C            0\n",
      "time_step    0\n",
      "u_in         0\n",
      "u_out        0\n",
      "pressure     0\n",
      "dtype: int64\n"
     ]
    },
    {
     "name": "stderr",
     "output_type": "stream",
     "text": [
      "<ipython-input-20-3823841978f3>:13: SettingWithCopyWarning: \n",
      "A value is trying to be set on a copy of a slice from a DataFrame\n",
      "\n",
      "See the caveats in the documentation: https://pandas.pydata.org/pandas-docs/stable/user_guide/indexing.html#returning-a-view-versus-a-copy\n",
      "  column[(column>upper_bound) | (column<lower_bound)] = np.nan\n"
     ]
    },
    {
     "name": "stdout",
     "output_type": "stream",
     "text": [
      "id           0\n",
      "breath_id    0\n",
      "R            0\n",
      "C            0\n",
      "time_step    0\n",
      "u_in         0\n",
      "u_out        0\n",
      "pressure     0\n",
      "dtype: int64\n"
     ]
    },
    {
     "data": {
      "text/html": [
       "<div>\n",
       "<style scoped>\n",
       "    .dataframe tbody tr th:only-of-type {\n",
       "        vertical-align: middle;\n",
       "    }\n",
       "\n",
       "    .dataframe tbody tr th {\n",
       "        vertical-align: top;\n",
       "    }\n",
       "\n",
       "    .dataframe thead th {\n",
       "        text-align: right;\n",
       "    }\n",
       "</style>\n",
       "<table border=\"1\" class=\"dataframe\">\n",
       "  <thead>\n",
       "    <tr style=\"text-align: right;\">\n",
       "      <th></th>\n",
       "      <th>id</th>\n",
       "      <th>breath_id</th>\n",
       "      <th>R</th>\n",
       "      <th>C</th>\n",
       "      <th>time_step</th>\n",
       "      <th>u_in</th>\n",
       "      <th>u_out</th>\n",
       "      <th>pressure</th>\n",
       "    </tr>\n",
       "  </thead>\n",
       "  <tbody>\n",
       "    <tr>\n",
       "      <th>0</th>\n",
       "      <td>1</td>\n",
       "      <td>1</td>\n",
       "      <td>20</td>\n",
       "      <td>50</td>\n",
       "      <td>0.000000</td>\n",
       "      <td>0.083334</td>\n",
       "      <td>0</td>\n",
       "      <td>5.837492</td>\n",
       "    </tr>\n",
       "    <tr>\n",
       "      <th>1</th>\n",
       "      <td>2</td>\n",
       "      <td>1</td>\n",
       "      <td>20</td>\n",
       "      <td>50</td>\n",
       "      <td>0.033652</td>\n",
       "      <td>3.587056</td>\n",
       "      <td>0</td>\n",
       "      <td>5.907794</td>\n",
       "    </tr>\n",
       "    <tr>\n",
       "      <th>2</th>\n",
       "      <td>3</td>\n",
       "      <td>1</td>\n",
       "      <td>20</td>\n",
       "      <td>50</td>\n",
       "      <td>0.067514</td>\n",
       "      <td>3.587056</td>\n",
       "      <td>0</td>\n",
       "      <td>7.876254</td>\n",
       "    </tr>\n",
       "    <tr>\n",
       "      <th>3</th>\n",
       "      <td>4</td>\n",
       "      <td>1</td>\n",
       "      <td>20</td>\n",
       "      <td>50</td>\n",
       "      <td>0.101542</td>\n",
       "      <td>3.587056</td>\n",
       "      <td>0</td>\n",
       "      <td>11.742872</td>\n",
       "    </tr>\n",
       "    <tr>\n",
       "      <th>4</th>\n",
       "      <td>5</td>\n",
       "      <td>1</td>\n",
       "      <td>20</td>\n",
       "      <td>50</td>\n",
       "      <td>0.135756</td>\n",
       "      <td>3.587056</td>\n",
       "      <td>0</td>\n",
       "      <td>12.234987</td>\n",
       "    </tr>\n",
       "  </tbody>\n",
       "</table>\n",
       "</div>"
      ],
      "text/plain": [
       "   id  breath_id   R   C  time_step      u_in  u_out   pressure\n",
       "0   1          1  20  50   0.000000  0.083334      0   5.837492\n",
       "1   2          1  20  50   0.033652  3.587056      0   5.907794\n",
       "2   3          1  20  50   0.067514  3.587056      0   7.876254\n",
       "3   4          1  20  50   0.101542  3.587056      0  11.742872\n",
       "4   5          1  20  50   0.135756  3.587056      0  12.234987"
      ]
     },
     "execution_count": 20,
     "metadata": {},
     "output_type": "execute_result"
    }
   ],
   "source": [
    "# Treat outlier\n",
    "from sklearn import impute\n",
    "\n",
    "def treat_outlier_and_null(columns):\n",
    "  for column_name in columns:\n",
    "    column = data_df[column_name]\n",
    "    iqr = np.quantile(column, 0.75) - np.quantile(column, 0.25)\n",
    "    upper_bound = np.quantile(column, 0.75) + 1.25*iqr\n",
    "    lower_bound = np.quantile(column, 0.25) - 1.25*iqr\n",
    "    is_outlier_found = column[(column>upper_bound) | (column<lower_bound)]\n",
    "\n",
    "    if list(is_outlier_found):\n",
    "      column[(column>upper_bound) | (column<lower_bound)] = np.nan\n",
    "\n",
    "    # Method2: static_imputation\n",
    "    if data_df[column_name].dtypes == 'O':\n",
    "      data_df[column_name] = data_df[column_name].fillna(data_df[column_name].mode().iloc[0])\n",
    "    else:\n",
    "      data_df[column_name] = data_df[column_name].fillna(data_df[column_name].median())\n",
    "\n",
    "# Check the null values in the data\n",
    "print(data_df.isnull().sum())\n",
    "treat_outlier_and_null(train_columns)\n",
    "print(data_df.isnull().sum())\n",
    "\n",
    "# Method1: Fill in the null values with KNN\n",
    "# knn_imputer = impute.KNNImputer(n_neighbors=5)\n",
    "# filled_data_df = knn_imputer.fit_transform(data_df.drop([\"id\", \"breath_id\", \"time_step\"], axis=1))\n",
    "# data_df.loc[:, ['R', 'C', 'u_in', 'u_out',  'pressure']] = filled_data_df\n",
    "\n",
    "data_df.head()"
   ]
  },
  {
   "cell_type": "code",
   "execution_count": 21,
   "metadata": {
    "id": "bTs1Nvujl_FD"
   },
   "outputs": [],
   "source": [
    "# Adding some features based on the provided data\n",
    "def generate_features(df):\n",
    "\n",
    "    # create an aggregate dictionary\n",
    "    aggs = {}\n",
    "    aggs['C'] = ['max', 'min', 'mean']\n",
    "    aggs['R'] = ['max', 'min', 'mean']\n",
    "    aggs['u_in'] = ['max', 'min', 'mean', 'std', 'var']\n",
    "\n",
    "    # we group by breath_id and calculate the aggregates\n",
    "    agg_df = df.groupby('breath_id').agg(aggs)\n",
    "    agg_df = agg_df.reset_index()\n",
    "    new_agg_columns = []\n",
    "\n",
    "    for agg_columns in list(agg_df.columns):\n",
    "        column_name = agg_columns[0] + \"_\" + agg_columns[1]\n",
    "        new_agg_columns.append(column_name.strip(\"_\"))\n",
    "\n",
    "    agg_df.columns = new_agg_columns\n",
    "    return agg_df\n",
    "\n",
    "agg_df = generate_features(data_df)\n",
    "data_df = pd.merge(data_df, agg_df, how='left', on = 'breath_id')"
   ]
  },
  {
   "cell_type": "code",
   "execution_count": 22,
   "metadata": {
    "colab": {
     "base_uri": "https://localhost:8080/",
     "height": 1000
    },
    "id": "nT7VoirE5T1H",
    "outputId": "b1b2da6a-1886-4af1-d800-f57ba75de72b"
   },
   "outputs": [
    {
     "data": {
      "text/plain": [
       "<matplotlib.axes._subplots.AxesSubplot at 0x20bd047fc10>"
      ]
     },
     "execution_count": 22,
     "metadata": {},
     "output_type": "execute_result"
    },
    {
     "data": {
      "image/png": "[encoded data removed]",
      "text/plain": [
       "<Figure size 1584x1296 with 2 Axes>"
      ]
     },
     "metadata": {
      "needs_background": "light"
     },
     "output_type": "display_data"
    }
   ],
   "source": [
    "plt.figure(figsize=(22, 18))\n",
    "sns.heatmap(data_df.corr(method='spearman'), annot=True, cmap='viridis')"
   ]
  },
  {
   "cell_type": "code",
   "execution_count": 23,
   "metadata": {
    "colab": {
     "base_uri": "https://localhost:8080/",
     "height": 238
    },
    "id": "_c1rJdSq5Tcz",
    "outputId": "9768adc0-7e3f-48e0-ba3b-a71a37895c0b"
   },
   "outputs": [
    {
     "name": "stdout",
     "output_type": "stream",
     "text": [
      "variance removed column: {'u_in_min'}\n",
      "variance and correlation removed column: {'C_min', 'R_max', 'breath_id', 'R_min', 'C_mean', 'C_max', 'R_mean', 'u_in_min', 'u_in_var'}\n"
     ]
    },
    {
     "data": {
      "text/html": [
       "<div>\n",
       "<style scoped>\n",
       "    .dataframe tbody tr th:only-of-type {\n",
       "        vertical-align: middle;\n",
       "    }\n",
       "\n",
       "    .dataframe tbody tr th {\n",
       "        vertical-align: top;\n",
       "    }\n",
       "\n",
       "    .dataframe thead th {\n",
       "        text-align: right;\n",
       "    }\n",
       "</style>\n",
       "<table border=\"1\" class=\"dataframe\">\n",
       "  <thead>\n",
       "    <tr style=\"text-align: right;\">\n",
       "      <th></th>\n",
       "      <th>R</th>\n",
       "      <th>C</th>\n",
       "      <th>time_step</th>\n",
       "      <th>u_in</th>\n",
       "      <th>u_out</th>\n",
       "      <th>pressure</th>\n",
       "      <th>u_in_max</th>\n",
       "      <th>u_in_mean</th>\n",
       "      <th>u_in_std</th>\n",
       "    </tr>\n",
       "  </thead>\n",
       "  <tbody>\n",
       "    <tr>\n",
       "      <th>0</th>\n",
       "      <td>20</td>\n",
       "      <td>50</td>\n",
       "      <td>0.000000</td>\n",
       "      <td>0.083334</td>\n",
       "      <td>0</td>\n",
       "      <td>5.837492</td>\n",
       "      <td>4.987079</td>\n",
       "      <td>3.152422</td>\n",
       "      <td>1.763825</td>\n",
       "    </tr>\n",
       "    <tr>\n",
       "      <th>1</th>\n",
       "      <td>20</td>\n",
       "      <td>50</td>\n",
       "      <td>0.033652</td>\n",
       "      <td>3.587056</td>\n",
       "      <td>0</td>\n",
       "      <td>5.907794</td>\n",
       "      <td>4.987079</td>\n",
       "      <td>3.152422</td>\n",
       "      <td>1.763825</td>\n",
       "    </tr>\n",
       "    <tr>\n",
       "      <th>2</th>\n",
       "      <td>20</td>\n",
       "      <td>50</td>\n",
       "      <td>0.067514</td>\n",
       "      <td>3.587056</td>\n",
       "      <td>0</td>\n",
       "      <td>7.876254</td>\n",
       "      <td>4.987079</td>\n",
       "      <td>3.152422</td>\n",
       "      <td>1.763825</td>\n",
       "    </tr>\n",
       "    <tr>\n",
       "      <th>3</th>\n",
       "      <td>20</td>\n",
       "      <td>50</td>\n",
       "      <td>0.101542</td>\n",
       "      <td>3.587056</td>\n",
       "      <td>0</td>\n",
       "      <td>11.742872</td>\n",
       "      <td>4.987079</td>\n",
       "      <td>3.152422</td>\n",
       "      <td>1.763825</td>\n",
       "    </tr>\n",
       "    <tr>\n",
       "      <th>4</th>\n",
       "      <td>20</td>\n",
       "      <td>50</td>\n",
       "      <td>0.135756</td>\n",
       "      <td>3.587056</td>\n",
       "      <td>0</td>\n",
       "      <td>12.234987</td>\n",
       "      <td>4.987079</td>\n",
       "      <td>3.152422</td>\n",
       "      <td>1.763825</td>\n",
       "    </tr>\n",
       "  </tbody>\n",
       "</table>\n",
       "</div>"
      ],
      "text/plain": [
       "    R   C  time_step      u_in  u_out   pressure  u_in_max  u_in_mean  \\\n",
       "0  20  50   0.000000  0.083334      0   5.837492  4.987079   3.152422   \n",
       "1  20  50   0.033652  3.587056      0   5.907794  4.987079   3.152422   \n",
       "2  20  50   0.067514  3.587056      0   7.876254  4.987079   3.152422   \n",
       "3  20  50   0.101542  3.587056      0  11.742872  4.987079   3.152422   \n",
       "4  20  50   0.135756  3.587056      0  12.234987  4.987079   3.152422   \n",
       "\n",
       "   u_in_std  \n",
       "0  1.763825  \n",
       "1  1.763825  \n",
       "2  1.763825  \n",
       "3  1.763825  \n",
       "4  1.763825  "
      ]
     },
     "execution_count": 23,
     "metadata": {},
     "output_type": "execute_result"
    }
   ],
   "source": [
    "from sklearn.feature_selection import VarianceThreshold\n",
    "\n",
    "# Perform feature selection\n",
    "def feature_selection(dataset, corr_threshold, var_threshold):\n",
    "    var_thresh = VarianceThreshold(threshold=var_threshold)\n",
    "    transformed_data = var_thresh.fit_transform(dataset)\n",
    "    var_columns = var_thresh.variances_ > var_threshold\n",
    "    var_removed_columns = [not column for column in var_columns]\n",
    "    removed_columns = set(dataset.iloc[:, var_removed_columns].columns)\n",
    "    print(f\"variance removed column: {removed_columns}\")\n",
    "\n",
    "    corr_matrix = dataset.corr(method='spearman')\n",
    "    for i in range(len(corr_matrix.columns)):\n",
    "        for j in range(i):\n",
    "            if abs(corr_matrix.iloc[i, j]) > corr_threshold:\n",
    "                colname = corr_matrix.columns[i]\n",
    "                removed_columns.add(colname)\n",
    "    print(f\"variance and correlation removed column: {removed_columns}\")\n",
    "    return removed_columns\n",
    "\n",
    "removed_columns = feature_selection(data_df.drop([\"pressure\"], axis=1), 0.85, 0.1)\n",
    "removed_columns.add(\"id\")\n",
    "data_df.drop(list(removed_columns), axis=1, inplace=True)\n",
    "data_df.head()"
   ]
  },
  {
   "cell_type": "code",
   "execution_count": 24,
   "metadata": {
    "id": "2w-jG8Hd5Rez"
   },
   "outputs": [
    {
     "name": "stdout",
     "output_type": "stream",
     "text": [
      "(60360, 9)\n"
     ]
    }
   ],
   "source": [
    "from sklearn.model_selection import train_test_split\n",
    "\n",
    "data_df = data_df.sample(frac=0.01)\n",
    "print(data_df.shape)\n",
    "\n",
    "X = data_df.drop([\"pressure\"], axis=1)\n",
    "y = data_df[\"pressure\"]\n",
    "X_train, X_test, y_train, y_test = train_test_split(X, y, test_size=0.10, random_state=42)"
   ]
  },
  {
   "cell_type": "code",
   "execution_count": 25,
   "metadata": {
    "id": "6NSNEZVa5RXd"
   },
   "outputs": [],
   "source": [
    "from sklearn.preprocessing import StandardScaler\n",
    "import joblib\n",
    "\n",
    "scaler = StandardScaler()\n",
    "scaler.fit(X_train)\n",
    "scaled_X_train = scaler.transform(X_train)\n",
    "scaled_X_test = scaler.transform(X_test)\n",
    "\n",
    "if running_enviroment == \"colab\":\n",
    "    joblib.dump(scaler, resource_path + 'ventilator-scaler-lower.pkl')\n",
    "else:\n",
    "    joblib.dump(scaler, local_resource_path + 'ventilator-scaler-lower.pkl')"
   ]
  },
  {
   "cell_type": "code",
   "execution_count": null,
   "metadata": {
    "colab": {
     "base_uri": "https://localhost:8080/"
    },
    "id": "StQ9DXle5RQ1",
    "outputId": "846a2ea7-a794-4eb0-82b8-1f4caebdeaba"
   },
   "outputs": [],
   "source": [
    "#1st model: RandomForest\n",
    "from sklearn.ensemble import RandomForestRegressor\n",
    "from sklearn import model_selection\n",
    "\n",
    "regressor = RandomForestRegressor(n_jobs=-1)\n",
    "param_grid = {\n",
    " \"n_estimators\": [120, 300, 500, 800, 1200],\n",
    " \"max_depth\": [5, 8, 15, 25, 30, None],\n",
    " \"min_samples_split\": [1.0, 2, 5, 10, 15, 100],\n",
    " \"min_samples_leaf\": [1, 2, 5, 10],\n",
    " \"max_features\" : [\"log2\", \"sqrt\", None]\n",
    "}\n",
    "\n",
    "model = model_selection.RandomizedSearchCV(\n",
    " estimator=regressor,\n",
    " param_distributions=param_grid,\n",
    " n_iter=2,\n",
    " scoring=\"neg_mean_absolute_error\",\n",
    " verbose=100,\n",
    " n_jobs=1,\n",
    " cv=4\n",
    ")\n",
    "\n",
    "model.fit(scaled_X_train, y_train)\n",
    "y_pred = model.predict(scaled_X_test) \n",
    "\n",
    "if running_enviroment == \"colab\":\n",
    "    joblib.dump(model, resource_path + 'random_forest_model1.joblib')\n",
    "else:\n",
    "    joblib.dump(model, local_resource_path + 'random_forest_model1.joblib')"
   ]
  },
  {
   "cell_type": "code",
   "execution_count": null,
   "metadata": {
    "id": "lQHEhJwp5RJm"
   },
   "outputs": [],
   "source": [
    "from sklearn.metrics import mean_absolute_error\n",
    "from sklearn.metrics import r2_score\n",
    "\n",
    "print(mean_absolute_error(y_test, y_pred))\n",
    "print(r2_score(y_test, y_pred))"
   ]
  },
  {
   "cell_type": "code",
   "execution_count": 17,
   "metadata": {},
   "outputs": [
    {
     "name": "stdout",
     "output_type": "stream",
     "text": [
      "Fitting 4 folds for each of 2 candidates, totalling 8 fits\n",
      "[CV 1/4; 1/2] START max_depth=30, max_features=log2, min_samples_leaf=1, min_samples_split=10, n_estimators=300\n",
      "[CV 1/4; 1/2] END max_depth=30, max_features=log2, min_samples_leaf=1, min_samples_split=10, n_estimators=300; total time= 8.6min\n",
      "[CV 2/4; 1/2] START max_depth=30, max_features=log2, min_samples_leaf=1, min_samples_split=10, n_estimators=300\n",
      "[CV 2/4; 1/2] END max_depth=30, max_features=log2, min_samples_leaf=1, min_samples_split=10, n_estimators=300; total time= 8.4min\n",
      "[CV 3/4; 1/2] START max_depth=30, max_features=log2, min_samples_leaf=1, min_samples_split=10, n_estimators=300\n",
      "[CV 3/4; 1/2] END max_depth=30, max_features=log2, min_samples_leaf=1, min_samples_split=10, n_estimators=300; total time= 8.5min\n",
      "[CV 4/4; 1/2] START max_depth=30, max_features=log2, min_samples_leaf=1, min_samples_split=10, n_estimators=300\n",
      "[CV 4/4; 1/2] END max_depth=30, max_features=log2, min_samples_leaf=1, min_samples_split=10, n_estimators=300; total time= 8.5min\n",
      "[CV 1/4; 2/2] START max_depth=25, max_features=log2, min_samples_leaf=5, min_samples_split=10, n_estimators=300\n",
      "[CV 1/4; 2/2] END max_depth=25, max_features=log2, min_samples_leaf=5, min_samples_split=10, n_estimators=300; total time= 8.1min\n",
      "[CV 2/4; 2/2] START max_depth=25, max_features=log2, min_samples_leaf=5, min_samples_split=10, n_estimators=300\n",
      "[CV 2/4; 2/2] END max_depth=25, max_features=log2, min_samples_leaf=5, min_samples_split=10, n_estimators=300; total time= 8.1min\n",
      "[CV 3/4; 2/2] START max_depth=25, max_features=log2, min_samples_leaf=5, min_samples_split=10, n_estimators=300\n",
      "[CV 3/4; 2/2] END max_depth=25, max_features=log2, min_samples_leaf=5, min_samples_split=10, n_estimators=300; total time= 8.1min\n",
      "[CV 4/4; 2/2] START max_depth=25, max_features=log2, min_samples_leaf=5, min_samples_split=10, n_estimators=300\n",
      "[CV 4/4; 2/2] END max_depth=25, max_features=log2, min_samples_leaf=5, min_samples_split=10, n_estimators=300; total time= 8.1min\n",
      "0.9284961361912899\n",
      "0.944455613667954\n"
     ]
    }
   ],
   "source": [
    "#1st model: RandomForest\n",
    "from sklearn.ensemble import RandomForestRegressor\n",
    "from sklearn import model_selection\n",
    "\n",
    "regressor = RandomForestRegressor(n_jobs=-1)\n",
    "param_grid = {\n",
    " \"n_estimators\": [120, 300, 500, 800, 1200],\n",
    " \"max_depth\": [5, 8, 15, 25, 30, None],\n",
    " \"min_samples_split\": [1.0, 2, 5, 10, 15, 100],\n",
    " \"min_samples_leaf\": [1, 2, 5, 10],\n",
    " \"max_features\" : [\"log2\", \"sqrt\", None]\n",
    "}\n",
    "\n",
    "model = model_selection.RandomizedSearchCV(\n",
    " estimator=regressor,\n",
    " param_distributions=param_grid,\n",
    " n_iter=2,\n",
    " scoring=\"neg_mean_absolute_error\",\n",
    " verbose=100,\n",
    " n_jobs=1,\n",
    " cv=4\n",
    ")\n",
    "\n",
    "model.fit(scaled_X_train, y_train)\n",
    "y_pred = model.predict(scaled_X_test) \n",
    "\n",
    "if running_enviroment == \"colab\":\n",
    "    joblib.dump(model, resource_path + 'random_forest_model2.joblib')\n",
    "else:\n",
    "    joblib.dump(model, local_resource_path + 'random_forest_model2.joblib')\n",
    "    \n",
    "print(mean_absolute_error(y_test, y_pred))\n",
    "print(r2_score(y_test, y_pred))"
   ]
  },
  {
   "cell_type": "code",
   "execution_count": 18,
   "metadata": {},
   "outputs": [
    {
     "name": "stdout",
     "output_type": "stream",
     "text": [
      "Fitting 4 folds for each of 2 candidates, totalling 8 fits\n",
      "[CV 1/4; 1/2] START max_depth=30, max_features=sqrt, min_samples_leaf=10, min_samples_split=100, n_estimators=1200\n",
      "[CV 1/4; 1/2] END max_depth=30, max_features=sqrt, min_samples_leaf=10, min_samples_split=100, n_estimators=1200; total time=25.7min\n",
      "[CV 2/4; 1/2] START max_depth=30, max_features=sqrt, min_samples_leaf=10, min_samples_split=100, n_estimators=1200\n",
      "[CV 2/4; 1/2] END max_depth=30, max_features=sqrt, min_samples_leaf=10, min_samples_split=100, n_estimators=1200; total time=25.4min\n",
      "[CV 3/4; 1/2] START max_depth=30, max_features=sqrt, min_samples_leaf=10, min_samples_split=100, n_estimators=1200\n",
      "[CV 3/4; 1/2] END max_depth=30, max_features=sqrt, min_samples_leaf=10, min_samples_split=100, n_estimators=1200; total time=25.4min\n",
      "[CV 4/4; 1/2] START max_depth=30, max_features=sqrt, min_samples_leaf=10, min_samples_split=100, n_estimators=1200\n",
      "[CV 4/4; 1/2] END max_depth=30, max_features=sqrt, min_samples_leaf=10, min_samples_split=100, n_estimators=1200; total time=25.5min\n",
      "[CV 1/4; 2/2] START max_depth=None, max_features=sqrt, min_samples_leaf=1, min_samples_split=1.0, n_estimators=500\n",
      "[CV 1/4; 2/2] END max_depth=None, max_features=sqrt, min_samples_leaf=1, min_samples_split=1.0, n_estimators=500; total time=  27.8s\n",
      "[CV 2/4; 2/2] START max_depth=None, max_features=sqrt, min_samples_leaf=1, min_samples_split=1.0, n_estimators=500\n",
      "[CV 2/4; 2/2] END max_depth=None, max_features=sqrt, min_samples_leaf=1, min_samples_split=1.0, n_estimators=500; total time=  27.5s\n",
      "[CV 3/4; 2/2] START max_depth=None, max_features=sqrt, min_samples_leaf=1, min_samples_split=1.0, n_estimators=500\n",
      "[CV 3/4; 2/2] END max_depth=None, max_features=sqrt, min_samples_leaf=1, min_samples_split=1.0, n_estimators=500; total time=  27.5s\n",
      "[CV 4/4; 2/2] START max_depth=None, max_features=sqrt, min_samples_leaf=1, min_samples_split=1.0, n_estimators=500\n",
      "[CV 4/4; 2/2] END max_depth=None, max_features=sqrt, min_samples_leaf=1, min_samples_split=1.0, n_estimators=500; total time=  27.5s\n",
      "1.28794604278398\n",
      "0.9012819360372539\n"
     ]
    }
   ],
   "source": [
    "#1st model: RandomForest\n",
    "from sklearn.ensemble import RandomForestRegressor\n",
    "from sklearn import model_selection\n",
    "\n",
    "regressor = RandomForestRegressor(n_jobs=-1)\n",
    "param_grid = {\n",
    " \"n_estimators\": [120, 300, 500, 800, 1200],\n",
    " \"max_depth\": [5, 8, 15, 25, 30, None],\n",
    " \"min_samples_split\": [1.0, 2, 5, 10, 15, 100],\n",
    " \"min_samples_leaf\": [1, 2, 5, 10],\n",
    " \"max_features\" : [\"log2\", \"sqrt\", None]\n",
    "}\n",
    "\n",
    "model = model_selection.RandomizedSearchCV(\n",
    " estimator=regressor,\n",
    " param_distributions=param_grid,\n",
    " n_iter=2,\n",
    " scoring=\"neg_mean_absolute_error\",\n",
    " verbose=100,\n",
    " n_jobs=1,\n",
    " cv=4\n",
    ")\n",
    "\n",
    "model.fit(scaled_X_train, y_train)\n",
    "y_pred = model.predict(scaled_X_test) \n",
    "\n",
    "if running_enviroment == \"colab\":\n",
    "    joblib.dump(model, resource_path + 'random_forest_model3.joblib')\n",
    "else:\n",
    "    joblib.dump(model, local_resource_path + 'random_forest_model3.joblib')\n",
    "    \n",
    "print(mean_absolute_error(y_test, y_pred))\n",
    "print(r2_score(y_test, y_pred))"
   ]
  },
  {
   "cell_type": "code",
   "execution_count": 19,
   "metadata": {},
   "outputs": [
    {
     "name": "stdout",
     "output_type": "stream",
     "text": [
      "Fitting 4 folds for each of 2 candidates, totalling 8 fits\n",
      "[CV 1/4; 1/2] START max_depth=15, max_features=sqrt, min_samples_leaf=2, min_samples_split=5, n_estimators=800\n",
      "[CV 1/4; 1/2] END max_depth=15, max_features=sqrt, min_samples_leaf=2, min_samples_split=5, n_estimators=800; total time=15.8min\n",
      "[CV 2/4; 1/2] START max_depth=15, max_features=sqrt, min_samples_leaf=2, min_samples_split=5, n_estimators=800\n",
      "[CV 2/4; 1/2] END max_depth=15, max_features=sqrt, min_samples_leaf=2, min_samples_split=5, n_estimators=800; total time=15.8min\n",
      "[CV 3/4; 1/2] START max_depth=15, max_features=sqrt, min_samples_leaf=2, min_samples_split=5, n_estimators=800\n",
      "[CV 3/4; 1/2] END max_depth=15, max_features=sqrt, min_samples_leaf=2, min_samples_split=5, n_estimators=800; total time=15.8min\n",
      "[CV 4/4; 1/2] START max_depth=15, max_features=sqrt, min_samples_leaf=2, min_samples_split=5, n_estimators=800\n",
      "[CV 4/4; 1/2] END max_depth=15, max_features=sqrt, min_samples_leaf=2, min_samples_split=5, n_estimators=800; total time=15.8min\n",
      "[CV 1/4; 2/2] START max_depth=30, max_features=sqrt, min_samples_leaf=10, min_samples_split=1.0, n_estimators=1200\n",
      "[CV 1/4; 2/2] END max_depth=30, max_features=sqrt, min_samples_leaf=10, min_samples_split=1.0, n_estimators=1200; total time= 1.1min\n",
      "[CV 2/4; 2/2] START max_depth=30, max_features=sqrt, min_samples_leaf=10, min_samples_split=1.0, n_estimators=1200\n",
      "[CV 2/4; 2/2] END max_depth=30, max_features=sqrt, min_samples_leaf=10, min_samples_split=1.0, n_estimators=1200; total time= 1.1min\n",
      "[CV 3/4; 2/2] START max_depth=30, max_features=sqrt, min_samples_leaf=10, min_samples_split=1.0, n_estimators=1200\n",
      "[CV 3/4; 2/2] END max_depth=30, max_features=sqrt, min_samples_leaf=10, min_samples_split=1.0, n_estimators=1200; total time= 1.1min\n",
      "[CV 4/4; 2/2] START max_depth=30, max_features=sqrt, min_samples_leaf=10, min_samples_split=1.0, n_estimators=1200\n",
      "[CV 4/4; 2/2] END max_depth=30, max_features=sqrt, min_samples_leaf=10, min_samples_split=1.0, n_estimators=1200; total time= 1.1min\n",
      "1.59789446621592\n",
      "0.856402894409372\n"
     ]
    }
   ],
   "source": [
    "#1st model: RandomForest\n",
    "from sklearn.ensemble import RandomForestRegressor\n",
    "from sklearn import model_selection\n",
    "\n",
    "regressor = RandomForestRegressor(n_jobs=-1)\n",
    "param_grid = {\n",
    " \"n_estimators\": [120, 300, 500, 800, 1200],\n",
    " \"max_depth\": [5, 8, 15, 25, 30, None],\n",
    " \"min_samples_split\": [1.0, 2, 5, 10, 15, 100],\n",
    " \"min_samples_leaf\": [1, 2, 5, 10],\n",
    " \"max_features\" : [\"log2\", \"sqrt\", None]\n",
    "}\n",
    "\n",
    "model = model_selection.RandomizedSearchCV(\n",
    " estimator=regressor,\n",
    " param_distributions=param_grid,\n",
    " n_iter=2,\n",
    " scoring=\"neg_mean_absolute_error\",\n",
    " verbose=100,\n",
    " n_jobs=1,\n",
    " cv=4\n",
    ")\n",
    "\n",
    "model.fit(scaled_X_train, y_train)\n",
    "y_pred = model.predict(scaled_X_test) \n",
    "\n",
    "if running_enviroment == \"colab\":\n",
    "    joblib.dump(model, resource_path + 'random_forest_model4.joblib')\n",
    "else:\n",
    "    joblib.dump(model, local_resource_path + 'random_forest_model4.joblib')\n",
    "    \n",
    "print(mean_absolute_error(y_test, y_pred))\n",
    "print(r2_score(y_test, y_pred))"
   ]
  },
  {
   "cell_type": "code",
   "execution_count": 26,
   "metadata": {
    "id": "kfWyv1ip5QyQ"
   },
   "outputs": [
    {
     "name": "stdout",
     "output_type": "stream",
     "text": [
      "Fitting 4 folds for each of 2 candidates, totalling 8 fits\n",
      "[CV 1/4; 1/2] START C=0.1, gamma=scale..........................................\n",
      "[CV 1/4; 1/2] END ........................C=0.1, gamma=scale; total time= 1.2min\n",
      "[CV 2/4; 1/2] START C=0.1, gamma=scale..........................................\n",
      "[CV 2/4; 1/2] END ........................C=0.1, gamma=scale; total time= 1.2min\n",
      "[CV 3/4; 1/2] START C=0.1, gamma=scale..........................................\n",
      "[CV 3/4; 1/2] END ........................C=0.1, gamma=scale; total time= 1.1min\n",
      "[CV 4/4; 1/2] START C=0.1, gamma=scale..........................................\n",
      "[CV 4/4; 1/2] END ........................C=0.1, gamma=scale; total time= 1.1min\n",
      "[CV 1/4; 2/2] START C=1, gamma=auto.............................................\n",
      "[CV 1/4; 2/2] END ...........................C=1, gamma=auto; total time= 1.1min\n",
      "[CV 2/4; 2/2] START C=1, gamma=auto.............................................\n",
      "[CV 2/4; 2/2] END ...........................C=1, gamma=auto; total time= 1.2min\n",
      "[CV 3/4; 2/2] START C=1, gamma=auto.............................................\n",
      "[CV 3/4; 2/2] END ...........................C=1, gamma=auto; total time= 1.1min\n",
      "[CV 4/4; 2/2] START C=1, gamma=auto.............................................\n",
      "[CV 4/4; 2/2] END ...........................C=1, gamma=auto; total time= 1.2min\n",
      "2.3627679856651453\n",
      "0.6339994654067913\n"
     ]
    }
   ],
   "source": [
    "#2nd model: SVM\n",
    "from sklearn.svm import SVR\n",
    "from sklearn import model_selection\n",
    "from sklearn.metrics import mean_absolute_error\n",
    "from sklearn.metrics import r2_score\n",
    "\n",
    "parameters = {\"C\": [0.001, 0.01, 0.1, 1, 10, 100], \n",
    "            \"gamma\": [\"scale\", \"auto\"]}\n",
    "svm_model = model_selection.RandomizedSearchCV(SVR(), parameters, verbose=100, n_iter=2, cv=4)\n",
    "svm_model.fit(scaled_X_train, y_train)\n",
    "y_pred = svm_model.predict(scaled_X_test)\n",
    "\n",
    "if running_enviroment == \"colab\":\n",
    "    joblib.dump(svm_model, resource_path + 'svm_model1.joblib')\n",
    "else:\n",
    "    joblib.dump(svm_model, local_resource_path + 'svm_model1.joblib')\n",
    "    \n",
    "print(mean_absolute_error(y_test, y_pred))\n",
    "print(r2_score(y_test, y_pred))"
   ]
  },
  {
   "cell_type": "code",
   "execution_count": 27,
   "metadata": {
    "id": "uleodgYb5QrC"
   },
   "outputs": [
    {
     "name": "stdout",
     "output_type": "stream",
     "text": [
      "Fitting 4 folds for each of 2 candidates, totalling 8 fits\n",
      "[CV 1/4; 1/2] START C=10, gamma=scale...........................................\n",
      "[CV 1/4; 1/2] END .........................C=10, gamma=scale; total time= 1.4min\n",
      "[CV 2/4; 1/2] START C=10, gamma=scale...........................................\n",
      "[CV 2/4; 1/2] END .........................C=10, gamma=scale; total time= 1.4min\n",
      "[CV 3/4; 1/2] START C=10, gamma=scale...........................................\n",
      "[CV 3/4; 1/2] END .........................C=10, gamma=scale; total time= 1.4min\n",
      "[CV 4/4; 1/2] START C=10, gamma=scale...........................................\n",
      "[CV 4/4; 1/2] END .........................C=10, gamma=scale; total time= 1.4min\n",
      "[CV 1/4; 2/2] START C=0.001, gamma=auto.........................................\n",
      "[CV 1/4; 2/2] END .......................C=0.001, gamma=auto; total time= 1.3min\n",
      "[CV 2/4; 2/2] START C=0.001, gamma=auto.........................................\n",
      "[CV 2/4; 2/2] END .......................C=0.001, gamma=auto; total time= 1.3min\n",
      "[CV 3/4; 2/2] START C=0.001, gamma=auto.........................................\n",
      "[CV 3/4; 2/2] END .......................C=0.001, gamma=auto; total time= 1.3min\n",
      "[CV 4/4; 2/2] START C=0.001, gamma=auto.........................................\n",
      "[CV 4/4; 2/2] END .......................C=0.001, gamma=auto; total time= 1.3min\n",
      "2.1603459914549887\n",
      "0.6944318424844085\n"
     ]
    }
   ],
   "source": [
    "#2nd model: SVM\n",
    "from sklearn.svm import SVR\n",
    "\n",
    "parameters = {\"C\": [0.001, 0.01, 0.1, 1, 10, 100], \n",
    "            \"gamma\": [\"scale\", \"auto\"]}\n",
    "svm_model = model_selection.RandomizedSearchCV(SVR(), parameters, verbose=100, n_iter=2, cv=4)\n",
    "svm_model.fit(scaled_X_train, y_train)\n",
    "y_pred = svm_model.predict(scaled_X_test)\n",
    "\n",
    "if running_enviroment == \"colab\":\n",
    "    joblib.dump(svm_model, resource_path + 'svm_model2.joblib')\n",
    "else:\n",
    "    joblib.dump(svm_model, local_resource_path + 'svm_model2.joblib')\n",
    "    \n",
    "print(mean_absolute_error(y_test, y_pred))\n",
    "print(r2_score(y_test, y_pred))"
   ]
  },
  {
   "cell_type": "code",
   "execution_count": null,
   "metadata": {
    "id": "1NYpmLmd5Qjb"
   },
   "outputs": [
    {
     "name": "stdout",
     "output_type": "stream",
     "text": [
      "Fitting 4 folds for each of 2 candidates, totalling 8 fits\n",
      "[CV 1/4; 1/2] START C=100, gamma=auto...........................................\n",
      "[CV 1/4; 1/2] END .........................C=100, gamma=auto; total time= 4.5min\n",
      "[CV 2/4; 1/2] START C=100, gamma=auto...........................................\n"
     ]
    }
   ],
   "source": [
    "#2nd model: SVM\n",
    "from sklearn.svm import SVR\n",
    "\n",
    "parameters = {\"C\": [0.001, 0.01, 0.1, 1, 10, 100], \n",
    "            \"gamma\": [\"scale\", \"auto\"]}\n",
    "svm_model = model_selection.RandomizedSearchCV(SVR(), parameters, verbose=100, n_iter=2, cv=4)\n",
    "svm_model.fit(scaled_X_train, y_train)\n",
    "y_pred = svm_model.predict(scaled_X_test)\n",
    "\n",
    "if running_enviroment == \"colab\":\n",
    "    joblib.dump(svm_model, resource_path + 'svm_model3.joblib')\n",
    "else:\n",
    "    joblib.dump(svm_model, local_resource_path + 'svm_model3.joblib')\n",
    "    \n",
    "print(mean_absolute_error(y_test, y_pred))\n",
    "print(r2_score(y_test, y_pred))"
   ]
  },
  {
   "cell_type": "code",
   "execution_count": null,
   "metadata": {
    "id": "YkbaqcT65QcF"
   },
   "outputs": [],
   "source": [
    "#2nd model: SVM\n",
    "from sklearn.svm import SVR\n",
    "\n",
    "parameters = {\"C\": [0.001, 0.01, 0.1, 1, 10, 100], \n",
    "            \"gamma\": [\"scale\", \"auto\"]}\n",
    "svm_model = model_selection.RandomizedSearchCV(SVR(), parameters, verbose=100, n_iter=2, cv=4)\n",
    "svm_model.fit(scaled_X_train, y_train)\n",
    "y_pred = svm_model.predict(scaled_X_test)\n",
    "\n",
    "if running_enviroment == \"colab\":\n",
    "    joblib.dump(svm_model, resource_path + 'svm_model4.joblib')\n",
    "else:\n",
    "    joblib.dump(svm_model, local_resource_path + 'svm_model4.joblib')\n",
    "    \n",
    "print(mean_absolute_error(y_test, y_pred))\n",
    "print(r2_score(y_test, y_pred))"
   ]
  },
  {
   "cell_type": "markdown",
   "metadata": {},
   "source": [
    "## Retraining with lower data"
   ]
  },
  {
   "cell_type": "code",
   "execution_count": 39,
   "metadata": {
    "id": "zOEc5iYr5Plm"
   },
   "outputs": [
    {
     "data": {
      "text/plain": [
       "['../models/random_forest_model_lower_data.joblib']"
      ]
     },
     "execution_count": 39,
     "metadata": {},
     "output_type": "execute_result"
    }
   ],
   "source": [
    "#1st model: RandomForest\n",
    "from sklearn.ensemble import RandomForestRegressor\n",
    "from sklearn import model_selection\n",
    "\n",
    "params = {'n_estimators': 300, 'min_samples_split': 10, 'min_samples_leaf': 1, 'max_features': 'log2', 'max_depth': 30}\n",
    "model = RandomForestRegressor(n_jobs=-1, **params)\n",
    "\n",
    "model.fit(scaled_X_train, y_train)\n",
    "y_pred = model.predict(scaled_X_test) \n",
    "joblib.dump(model, local_resource_path + 'random_forest_model_lower_data.joblib')"
   ]
  },
  {
   "cell_type": "code",
   "execution_count": 40,
   "metadata": {
    "id": "bxmGwPXS5PI5"
   },
   "outputs": [
    {
     "name": "stdout",
     "output_type": "stream",
     "text": [
      "1.6507572307765042\n",
      "0.8548357324072741\n"
     ]
    }
   ],
   "source": [
    "from sklearn.metrics import mean_absolute_error\n",
    "from sklearn.metrics import r2_score\n",
    "\n",
    "print(mean_absolute_error(y_test, y_pred))\n",
    "print(r2_score(y_test, y_pred))"
   ]
  },
  {
   "cell_type": "code",
   "execution_count": null,
   "metadata": {
    "id": "nAZvlKvT5O3U"
   },
   "outputs": [],
   "source": []
  },
  {
   "cell_type": "code",
   "execution_count": null,
   "metadata": {
    "id": "Sfb64Q6z5OuA"
   },
   "outputs": [],
   "source": []
  },
  {
   "cell_type": "code",
   "execution_count": null,
   "metadata": {
    "id": "ONN_-5895OiR"
   },
   "outputs": [],
   "source": []
  },
  {
   "cell_type": "code",
   "execution_count": null,
   "metadata": {
    "id": "K-3sKMJw2dYn"
   },
   "outputs": [],
   "source": []
  },
  {
   "cell_type": "code",
   "execution_count": null,
   "metadata": {
    "id": "EMUAS6ih2dQn"
   },
   "outputs": [],
   "source": []
  },
  {
   "cell_type": "code",
   "execution_count": null,
   "metadata": {
    "id": "DUdJV0sS2dFj"
   },
   "outputs": [],
   "source": []
  },
  {
   "cell_type": "code",
   "execution_count": null,
   "metadata": {
    "id": "2PhWdcmn2c-Y"
   },
   "outputs": [],
   "source": []
  },
  {
   "cell_type": "code",
   "execution_count": null,
   "metadata": {
    "id": "63_xF8W72c2a"
   },
   "outputs": [],
   "source": []
  },
  {
   "cell_type": "code",
   "execution_count": null,
   "metadata": {
    "id": "g8_vwDXp2cty"
   },
   "outputs": [],
   "source": []
  },
  {
   "cell_type": "code",
   "execution_count": null,
   "metadata": {
    "id": "diFNz9ga2clK"
   },
   "outputs": [],
   "source": []
  },
  {
   "cell_type": "code",
   "execution_count": null,
   "metadata": {
    "id": "zredgQPz2cdX"
   },
   "outputs": [],
   "source": []
  },
  {
   "cell_type": "code",
   "execution_count": null,
   "metadata": {
    "id": "jJrBx3bs2cS_"
   },
   "outputs": [],
   "source": []
  },
  {
   "cell_type": "code",
   "execution_count": null,
   "metadata": {
    "id": "z1xL1Vd72cIS"
   },
   "outputs": [],
   "source": []
  },
  {
   "cell_type": "code",
   "execution_count": null,
   "metadata": {
    "id": "2NycmuWs2b9I"
   },
   "outputs": [],
   "source": []
  },
  {
   "cell_type": "code",
   "execution_count": null,
   "metadata": {
    "id": "k_nvQqDc2byF"
   },
   "outputs": [],
   "source": []
  },
  {
   "cell_type": "code",
   "execution_count": null,
   "metadata": {
    "id": "hdoASAwn2bnE"
   },
   "outputs": [],
   "source": []
  },
  {
   "cell_type": "code",
   "execution_count": null,
   "metadata": {
    "id": "htzBsnKPacFY"
   },
   "outputs": [],
   "source": []
  },
  {
   "cell_type": "code",
   "execution_count": null,
   "metadata": {
    "id": "uJsICPvZr3_h"
   },
   "outputs": [],
   "source": [
    "train_df.dtypes"
   ]
  },
  {
   "cell_type": "code",
   "execution_count": null,
   "metadata": {
    "id": "5aFTWPiZFUIM"
   },
   "outputs": [],
   "source": [
    "test_df = pd.read_csv('/content/drive/MyDrive/Ventilator-Pressure-Prediction/test.csv')"
   ]
  },
  {
   "cell_type": "code",
   "execution_count": null,
   "metadata": {
    "id": "Cbj35sr3p66P"
   },
   "outputs": [],
   "source": [
    "test_df.shape"
   ]
  },
  {
   "cell_type": "code",
   "execution_count": null,
   "metadata": {
    "id": "RbPFEKEUbCh6"
   },
   "outputs": [],
   "source": [
    "train_df[\"breath_id\"].nunique()"
   ]
  },
  {
   "cell_type": "code",
   "execution_count": null,
   "metadata": {
    "id": "imwoMxR2Fcew"
   },
   "outputs": [],
   "source": []
  },
  {
   "cell_type": "code",
   "execution_count": null,
   "metadata": {
    "id": "69gk1D3MvRL_"
   },
   "outputs": [],
   "source": []
  },
  {
   "cell_type": "code",
   "execution_count": null,
   "metadata": {
    "id": "ZvPLREjnvRYT"
   },
   "outputs": [],
   "source": []
  },
  {
   "cell_type": "code",
   "execution_count": null,
   "metadata": {
    "id": "QK1fMR-evRcS"
   },
   "outputs": [],
   "source": []
  },
  {
   "cell_type": "code",
   "execution_count": null,
   "metadata": {
    "id": "Y_dBCTOWvRf9"
   },
   "outputs": [],
   "source": []
  },
  {
   "cell_type": "code",
   "execution_count": null,
   "metadata": {
    "id": "Ld42ip8MvRjX"
   },
   "outputs": [],
   "source": []
  },
  {
   "cell_type": "code",
   "execution_count": null,
   "metadata": {
    "id": "su-VfDPhvRnD"
   },
   "outputs": [],
   "source": []
  },
  {
   "cell_type": "code",
   "execution_count": null,
   "metadata": {
    "id": "zNKZGyu0vRpl"
   },
   "outputs": [],
   "source": []
  },
  {
   "cell_type": "code",
   "execution_count": null,
   "metadata": {
    "id": "tbouYzTVvRsa"
   },
   "outputs": [],
   "source": []
  },
  {
   "cell_type": "code",
   "execution_count": null,
   "metadata": {
    "id": "v1UpZZX2vRvI"
   },
   "outputs": [],
   "source": []
  },
  {
   "cell_type": "code",
   "execution_count": null,
   "metadata": {
    "id": "4nALgHDLvRyf"
   },
   "outputs": [],
   "source": []
  }
 ],
 "metadata": {
  "colab": {
   "name": "Ventilator-Pressure-train.ipynb",
   "provenance": []
  },
  "kernelspec": {
   "display_name": "ventilator-prediction",
   "language": "python",
   "name": "ventilator-prediction"
  },
  "language_info": {
   "codemirror_mode": {
    "name": "ipython",
    "version": 3
   },
   "file_extension": ".py",
   "mimetype": "text/x-python",
   "name": "python",
   "nbconvert_exporter": "python",
   "pygments_lexer": "ipython3",
   "version": "3.6.13"
  }
 },
 "nbformat": 4,
 "nbformat_minor": 1
}
